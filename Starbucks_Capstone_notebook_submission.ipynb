{
 "cells": [
  {
   "cell_type": "markdown",
   "metadata": {},
   "source": [
    "# Starbucks Capstone Challenge\n",
    "\n",
    "### Introduction\n",
    "\n",
    "This data set contains simulated data that mimics customer behavior on the Starbucks rewards mobile app. Once every few days, Starbucks sends out an offer to users of the mobile app. An offer can be merely an advertisement for a drink or an actual offer such as a discount or BOGO (buy one get one free). Some users might not receive any offer during certain weeks. \n",
    "\n",
    "Not all users receive the same offer, and that is the challenge to solve with this data set.\n",
    "\n",
    "Your task is to combine transaction, demographic and offer data to determine which demographic groups respond best to which offer type. This data set is a simplified version of the real Starbucks app because the underlying simulator only has one product whereas Starbucks actually sells dozens of products.\n",
    "\n",
    "Every offer has a validity period before the offer expires. As an example, a BOGO offer might be valid for only 5 days. You'll see in the data set that informational offers have a validity period even though these ads are merely providing information about a product; for example, if an informational offer has 7 days of validity, you can assume the customer is feeling the influence of the offer for 7 days after receiving the advertisement.\n",
    "\n",
    "You'll be given transactional data showing user purchases made on the app including the timestamp of purchase and the amount of money spent on a purchase. This transactional data also has a record for each offer that a user receives as well as a record for when a user actually views the offer. There are also records for when a user completes an offer. \n",
    "\n",
    "Keep in mind as well that someone using the app might make a purchase through the app without having received an offer or seen an offer.\n",
    "\n",
    "### Example\n",
    "\n",
    "To give an example, a user could receive a discount offer buy 10 dollars get 2 off on Monday. The offer is valid for 10 days from receipt. If the customer accumulates at least 10 dollars in purchases during the validity period, the customer completes the offer.\n",
    "\n",
    "However, there are a few things to watch out for in this data set. Customers do not opt into the offers that they receive; in other words, a user can receive an offer, never actually view the offer, and still complete the offer. For example, a user might receive the \"buy 10 dollars get 2 dollars off offer\", but the user never opens the offer during the 10 day validity period. The customer spends 15 dollars during those ten days. There will be an offer completion record in the data set; however, the customer was not influenced by the offer because the customer never viewed the offer.\n",
    "\n",
    "### Cleaning\n",
    "\n",
    "This makes data cleaning especially important and tricky.\n",
    "\n",
    "You'll also want to take into account that some demographic groups will make purchases even if they don't receive an offer. From a business perspective, if a customer is going to make a 10 dollar purchase without an offer anyway, you wouldn't want to send a buy 10 dollars get 2 dollars off offer. You'll want to try to assess what a certain demographic group will buy when not receiving any offers.\n",
    "\n",
    "### Final Advice\n",
    "\n",
    "Because this is a capstone project, you are free to analyze the data any way you see fit. For example, you could build a machine learning model that predicts how much someone will spend based on demographics and offer type. Or you could build a model that predicts whether or not someone will respond to an offer. Or, you don't need to build a machine learning model at all. You could develop a set of heuristics that determine what offer you should send to each customer (i.e., 75 percent of women customers who were 35 years old responded to offer A vs 40 percent from the same demographic to offer B, so send offer A)."
   ]
  },
  {
   "cell_type": "markdown",
   "metadata": {},
   "source": [
    "# Data Sets\n",
    "\n",
    "The data is contained in three files:\n",
    "\n",
    "* portfolio.json - containing offer ids and meta data about each offer (duration, type, etc.)\n",
    "* profile.json - demographic data for each customer\n",
    "* transcript.json - records for transactions, offers received, offers viewed, and offers completed\n",
    "\n",
    "Here is the schema and explanation of each variable in the files:\n",
    "\n",
    "**portfolio.json**\n",
    "* id (string) - offer id\n",
    "* offer_type (string) - type of offer ie BOGO, discount, informational\n",
    "* difficulty (int) - minimum required spend to complete an offer\n",
    "* reward (int) - reward given for completing an offer\n",
    "* duration (int) - time for offer to be open, in days\n",
    "* channels (list of strings)\n",
    "\n",
    "**profile.json**\n",
    "* age (int) - age of the customer \n",
    "* became_member_on (int) - date when customer created an app account\n",
    "* gender (str) - gender of the customer (note some entries contain 'O' for other rather than M or F)\n",
    "* id (str) - customer id\n",
    "* income (float) - customer's income\n",
    "\n",
    "**transcript.json**\n",
    "* event (str) - record description (ie transaction, offer received, offer viewed, etc.)\n",
    "* person (str) - customer id\n",
    "* time (int) - time in hours since start of test. The data begins at time t=0\n",
    "* value - (dict of strings) - either an offer id or transaction amount depending on the record\n",
    "\n",
    "**Note:** If you are using the workspace, you will need to go to the terminal and run the command `conda update pandas` before reading in the files. This is because the version of pandas in the workspace cannot read in the transcript.json file correctly, but the newest version of pandas can. You can access the termnal from the orange icon in the top left of this notebook.  \n",
    "\n",
    "You can see how to access the terminal and how the install works using the two images below.  First you need to access the terminal:\n",
    "\n",
    "<img src=\"pic1.png\"/>\n",
    "\n",
    "Then you will want to run the above command:\n",
    "\n",
    "<img src=\"pic2.png\"/>\n",
    "\n",
    "Finally, when you enter back into the notebook (use the jupyter icon again), you should be able to run the below cell without any errors."
   ]
  },
  {
   "cell_type": "code",
   "execution_count": 1,
   "metadata": {},
   "outputs": [],
   "source": [
    "# Seaborn histplot does not seem to work \n",
    "# consulted Stackoverflow which suggested installing package direct then restarting kernel\n",
    "# https://stackoverflow.com/questions/64815227/attributeerror-module-seaborn-has-no-attribute-histplot?rq=1\n",
    "\n",
    "#!pip3 install seaborn==0.11.1"
   ]
  },
  {
   "cell_type": "markdown",
   "metadata": {},
   "source": [
    "# Import data and packages required "
   ]
  },
  {
   "cell_type": "code",
   "execution_count": 2,
   "metadata": {},
   "outputs": [
    {
     "name": "stderr",
     "output_type": "stream",
     "text": [
      "/opt/conda/lib/python3.6/site-packages/sklearn/ensemble/weight_boosting.py:29: DeprecationWarning: numpy.core.umath_tests is an internal NumPy module and should not be imported. It will be removed in a future NumPy release.\n",
      "  from numpy.core.umath_tests import inner1d\n"
     ]
    }
   ],
   "source": [
    "# import standard packages for manipulation\n",
    "import pandas as pd\n",
    "import numpy as np\n",
    "import math\n",
    "import json\n",
    "from random import sample\n",
    "% matplotlib inline\n",
    "\n",
    "# packages for charting\n",
    "import matplotlib.pyplot as plt\n",
    "import seaborn as sns\n",
    "\n",
    "# packages for dates and times\n",
    "import datetime\n",
    "from datetime import datetime\n",
    "from datetime import date\n",
    "\n",
    "# packages for modelling\n",
    "from sklearn.linear_model import LogisticRegression\n",
    "from sklearn.ensemble import RandomForestClassifier\n",
    "from sklearn.model_selection import train_test_split\n",
    "from sklearn.model_selection import GridSearchCV\n",
    "\n",
    "from sklearn.pipeline import make_pipeline\n",
    "from sklearn.preprocessing import StandardScaler\n",
    "from sklearn.metrics import classification_report, confusion_matrix\n",
    "\n",
    "from sklearn import metrics\n",
    "from sklearn.model_selection import cross_val_score\n",
    "\n",
    "\n",
    "# read in the json files\n",
    "portfolio = pd.read_json('data/portfolio.json', orient='records', lines=True)\n",
    "profile = pd.read_json('data/profile.json', orient='records', lines=True)\n",
    "transcript = pd.read_json('data/transcript.json', orient='records', lines=True)"
   ]
  },
  {
   "cell_type": "markdown",
   "metadata": {},
   "source": [
    "# Investigate and tidy Portfolio data"
   ]
  },
  {
   "cell_type": "code",
   "execution_count": 3,
   "metadata": {},
   "outputs": [
    {
     "name": "stdout",
     "output_type": "stream",
     "text": [
      "Portfolio has: 10 rows, and 6 columns\n"
     ]
    },
    {
     "data": {
      "text/html": [
       "<div>\n",
       "<style scoped>\n",
       "    .dataframe tbody tr th:only-of-type {\n",
       "        vertical-align: middle;\n",
       "    }\n",
       "\n",
       "    .dataframe tbody tr th {\n",
       "        vertical-align: top;\n",
       "    }\n",
       "\n",
       "    .dataframe thead th {\n",
       "        text-align: right;\n",
       "    }\n",
       "</style>\n",
       "<table border=\"1\" class=\"dataframe\">\n",
       "  <thead>\n",
       "    <tr style=\"text-align: right;\">\n",
       "      <th></th>\n",
       "      <th>channels</th>\n",
       "      <th>difficulty</th>\n",
       "      <th>duration</th>\n",
       "      <th>id</th>\n",
       "      <th>offer_type</th>\n",
       "      <th>reward</th>\n",
       "    </tr>\n",
       "  </thead>\n",
       "  <tbody>\n",
       "    <tr>\n",
       "      <th>0</th>\n",
       "      <td>[email, mobile, social]</td>\n",
       "      <td>10</td>\n",
       "      <td>7</td>\n",
       "      <td>ae264e3637204a6fb9bb56bc8210ddfd</td>\n",
       "      <td>bogo</td>\n",
       "      <td>10</td>\n",
       "    </tr>\n",
       "    <tr>\n",
       "      <th>1</th>\n",
       "      <td>[web, email, mobile, social]</td>\n",
       "      <td>10</td>\n",
       "      <td>5</td>\n",
       "      <td>4d5c57ea9a6940dd891ad53e9dbe8da0</td>\n",
       "      <td>bogo</td>\n",
       "      <td>10</td>\n",
       "    </tr>\n",
       "    <tr>\n",
       "      <th>2</th>\n",
       "      <td>[web, email, mobile]</td>\n",
       "      <td>0</td>\n",
       "      <td>4</td>\n",
       "      <td>3f207df678b143eea3cee63160fa8bed</td>\n",
       "      <td>informational</td>\n",
       "      <td>0</td>\n",
       "    </tr>\n",
       "    <tr>\n",
       "      <th>3</th>\n",
       "      <td>[web, email, mobile]</td>\n",
       "      <td>5</td>\n",
       "      <td>7</td>\n",
       "      <td>9b98b8c7a33c4b65b9aebfe6a799e6d9</td>\n",
       "      <td>bogo</td>\n",
       "      <td>5</td>\n",
       "    </tr>\n",
       "    <tr>\n",
       "      <th>4</th>\n",
       "      <td>[web, email]</td>\n",
       "      <td>20</td>\n",
       "      <td>10</td>\n",
       "      <td>0b1e1539f2cc45b7b9fa7c272da2e1d7</td>\n",
       "      <td>discount</td>\n",
       "      <td>5</td>\n",
       "    </tr>\n",
       "    <tr>\n",
       "      <th>5</th>\n",
       "      <td>[web, email, mobile, social]</td>\n",
       "      <td>7</td>\n",
       "      <td>7</td>\n",
       "      <td>2298d6c36e964ae4a3e7e9706d1fb8c2</td>\n",
       "      <td>discount</td>\n",
       "      <td>3</td>\n",
       "    </tr>\n",
       "    <tr>\n",
       "      <th>6</th>\n",
       "      <td>[web, email, mobile, social]</td>\n",
       "      <td>10</td>\n",
       "      <td>10</td>\n",
       "      <td>fafdcd668e3743c1bb461111dcafc2a4</td>\n",
       "      <td>discount</td>\n",
       "      <td>2</td>\n",
       "    </tr>\n",
       "    <tr>\n",
       "      <th>7</th>\n",
       "      <td>[email, mobile, social]</td>\n",
       "      <td>0</td>\n",
       "      <td>3</td>\n",
       "      <td>5a8bc65990b245e5a138643cd4eb9837</td>\n",
       "      <td>informational</td>\n",
       "      <td>0</td>\n",
       "    </tr>\n",
       "    <tr>\n",
       "      <th>8</th>\n",
       "      <td>[web, email, mobile, social]</td>\n",
       "      <td>5</td>\n",
       "      <td>5</td>\n",
       "      <td>f19421c1d4aa40978ebb69ca19b0e20d</td>\n",
       "      <td>bogo</td>\n",
       "      <td>5</td>\n",
       "    </tr>\n",
       "    <tr>\n",
       "      <th>9</th>\n",
       "      <td>[web, email, mobile]</td>\n",
       "      <td>10</td>\n",
       "      <td>7</td>\n",
       "      <td>2906b810c7d4411798c6938adc9daaa5</td>\n",
       "      <td>discount</td>\n",
       "      <td>2</td>\n",
       "    </tr>\n",
       "  </tbody>\n",
       "</table>\n",
       "</div>"
      ],
      "text/plain": [
       "                       channels  difficulty  duration  \\\n",
       "0       [email, mobile, social]          10         7   \n",
       "1  [web, email, mobile, social]          10         5   \n",
       "2          [web, email, mobile]           0         4   \n",
       "3          [web, email, mobile]           5         7   \n",
       "4                  [web, email]          20        10   \n",
       "5  [web, email, mobile, social]           7         7   \n",
       "6  [web, email, mobile, social]          10        10   \n",
       "7       [email, mobile, social]           0         3   \n",
       "8  [web, email, mobile, social]           5         5   \n",
       "9          [web, email, mobile]          10         7   \n",
       "\n",
       "                                 id     offer_type  reward  \n",
       "0  ae264e3637204a6fb9bb56bc8210ddfd           bogo      10  \n",
       "1  4d5c57ea9a6940dd891ad53e9dbe8da0           bogo      10  \n",
       "2  3f207df678b143eea3cee63160fa8bed  informational       0  \n",
       "3  9b98b8c7a33c4b65b9aebfe6a799e6d9           bogo       5  \n",
       "4  0b1e1539f2cc45b7b9fa7c272da2e1d7       discount       5  \n",
       "5  2298d6c36e964ae4a3e7e9706d1fb8c2       discount       3  \n",
       "6  fafdcd668e3743c1bb461111dcafc2a4       discount       2  \n",
       "7  5a8bc65990b245e5a138643cd4eb9837  informational       0  \n",
       "8  f19421c1d4aa40978ebb69ca19b0e20d           bogo       5  \n",
       "9  2906b810c7d4411798c6938adc9daaa5       discount       2  "
      ]
     },
     "execution_count": 3,
     "metadata": {},
     "output_type": "execute_result"
    }
   ],
   "source": [
    "print(\"Portfolio has: \" + str(portfolio.shape[0])+\" rows, and \"+str(portfolio.shape[1])+\" columns\")\n",
    "\n",
    "portfolio.head(10)"
   ]
  },
  {
   "cell_type": "code",
   "execution_count": 4,
   "metadata": {},
   "outputs": [
    {
     "name": "stdout",
     "output_type": "stream",
     "text": [
      "offer_type     difficulty  reward\n",
      "bogo           5           5         2\n",
      "               10          10        2\n",
      "discount       7           3         1\n",
      "               10          2         2\n",
      "               20          5         1\n",
      "informational  0           0         2\n",
      "Name: id, dtype: int64\n",
      "channels      0\n",
      "difficulty    0\n",
      "duration      0\n",
      "id            0\n",
      "offer_type    0\n",
      "reward        0\n",
      "dtype: int64\n"
     ]
    }
   ],
   "source": [
    "# check the combinations of difficulty and reward for each offer type\n",
    "print(portfolio.groupby(['offer_type','difficulty','reward'])['id'].count())\n",
    "\n",
    "# check for missing data\n",
    "print(portfolio.isnull().sum())"
   ]
  },
  {
   "cell_type": "code",
   "execution_count": 5,
   "metadata": {},
   "outputs": [],
   "source": [
    "# add a descriptor for the offer type\n",
    "portfolio['off_difredu']=portfolio['offer_type']+'_'\\\n",
    "                +portfolio['difficulty'].map(str)+'_'+\\\n",
    "                +portfolio['duration'].map(str)+'_'+\\\n",
    "                +portfolio['reward'].map(str)\n",
    "                \n",
    "# add a simple sequential offer number for grouping - use the index\n",
    "portfolio['offer_num'] = \"offer\"+'_'+portfolio.index.map(str)\n",
    "\n",
    "# convert duration to hours\n",
    "portfolio['duration_hrs'] = portfolio['duration'].apply(lambda x: x*24)\n",
    "\n",
    "# finally rename the id column to something more specific to this data\n",
    "portfolio.rename(columns={'id':'offer id'}, inplace=True)"
   ]
  },
  {
   "cell_type": "code",
   "execution_count": 6,
   "metadata": {},
   "outputs": [
    {
     "data": {
      "text/html": [
       "<div>\n",
       "<style scoped>\n",
       "    .dataframe tbody tr th:only-of-type {\n",
       "        vertical-align: middle;\n",
       "    }\n",
       "\n",
       "    .dataframe tbody tr th {\n",
       "        vertical-align: top;\n",
       "    }\n",
       "\n",
       "    .dataframe thead th {\n",
       "        text-align: right;\n",
       "    }\n",
       "</style>\n",
       "<table border=\"1\" class=\"dataframe\">\n",
       "  <thead>\n",
       "    <tr style=\"text-align: right;\">\n",
       "      <th></th>\n",
       "      <th>channels</th>\n",
       "      <th>difficulty</th>\n",
       "      <th>duration</th>\n",
       "      <th>offer id</th>\n",
       "      <th>offer_type</th>\n",
       "      <th>reward</th>\n",
       "      <th>off_difredu</th>\n",
       "      <th>offer_num</th>\n",
       "      <th>duration_hrs</th>\n",
       "    </tr>\n",
       "  </thead>\n",
       "  <tbody>\n",
       "    <tr>\n",
       "      <th>0</th>\n",
       "      <td>[email, mobile, social]</td>\n",
       "      <td>10</td>\n",
       "      <td>7</td>\n",
       "      <td>ae264e3637204a6fb9bb56bc8210ddfd</td>\n",
       "      <td>bogo</td>\n",
       "      <td>10</td>\n",
       "      <td>bogo_10_7_10</td>\n",
       "      <td>offer_0</td>\n",
       "      <td>168</td>\n",
       "    </tr>\n",
       "    <tr>\n",
       "      <th>1</th>\n",
       "      <td>[web, email, mobile, social]</td>\n",
       "      <td>10</td>\n",
       "      <td>5</td>\n",
       "      <td>4d5c57ea9a6940dd891ad53e9dbe8da0</td>\n",
       "      <td>bogo</td>\n",
       "      <td>10</td>\n",
       "      <td>bogo_10_5_10</td>\n",
       "      <td>offer_1</td>\n",
       "      <td>120</td>\n",
       "    </tr>\n",
       "    <tr>\n",
       "      <th>2</th>\n",
       "      <td>[web, email, mobile]</td>\n",
       "      <td>0</td>\n",
       "      <td>4</td>\n",
       "      <td>3f207df678b143eea3cee63160fa8bed</td>\n",
       "      <td>informational</td>\n",
       "      <td>0</td>\n",
       "      <td>informational_0_4_0</td>\n",
       "      <td>offer_2</td>\n",
       "      <td>96</td>\n",
       "    </tr>\n",
       "    <tr>\n",
       "      <th>3</th>\n",
       "      <td>[web, email, mobile]</td>\n",
       "      <td>5</td>\n",
       "      <td>7</td>\n",
       "      <td>9b98b8c7a33c4b65b9aebfe6a799e6d9</td>\n",
       "      <td>bogo</td>\n",
       "      <td>5</td>\n",
       "      <td>bogo_5_7_5</td>\n",
       "      <td>offer_3</td>\n",
       "      <td>168</td>\n",
       "    </tr>\n",
       "    <tr>\n",
       "      <th>4</th>\n",
       "      <td>[web, email]</td>\n",
       "      <td>20</td>\n",
       "      <td>10</td>\n",
       "      <td>0b1e1539f2cc45b7b9fa7c272da2e1d7</td>\n",
       "      <td>discount</td>\n",
       "      <td>5</td>\n",
       "      <td>discount_20_10_5</td>\n",
       "      <td>offer_4</td>\n",
       "      <td>240</td>\n",
       "    </tr>\n",
       "  </tbody>\n",
       "</table>\n",
       "</div>"
      ],
      "text/plain": [
       "                       channels  difficulty  duration  \\\n",
       "0       [email, mobile, social]          10         7   \n",
       "1  [web, email, mobile, social]          10         5   \n",
       "2          [web, email, mobile]           0         4   \n",
       "3          [web, email, mobile]           5         7   \n",
       "4                  [web, email]          20        10   \n",
       "\n",
       "                           offer id     offer_type  reward  \\\n",
       "0  ae264e3637204a6fb9bb56bc8210ddfd           bogo      10   \n",
       "1  4d5c57ea9a6940dd891ad53e9dbe8da0           bogo      10   \n",
       "2  3f207df678b143eea3cee63160fa8bed  informational       0   \n",
       "3  9b98b8c7a33c4b65b9aebfe6a799e6d9           bogo       5   \n",
       "4  0b1e1539f2cc45b7b9fa7c272da2e1d7       discount       5   \n",
       "\n",
       "           off_difredu offer_num  duration_hrs  \n",
       "0         bogo_10_7_10   offer_0           168  \n",
       "1         bogo_10_5_10   offer_1           120  \n",
       "2  informational_0_4_0   offer_2            96  \n",
       "3           bogo_5_7_5   offer_3           168  \n",
       "4     discount_20_10_5   offer_4           240  "
      ]
     },
     "execution_count": 6,
     "metadata": {},
     "output_type": "execute_result"
    }
   ],
   "source": [
    "# check this frame\n",
    "portfolio.head()"
   ]
  },
  {
   "cell_type": "markdown",
   "metadata": {},
   "source": [
    "# Investigate and tidy the Profile data"
   ]
  },
  {
   "cell_type": "code",
   "execution_count": 7,
   "metadata": {},
   "outputs": [
    {
     "name": "stdout",
     "output_type": "stream",
     "text": [
      "profile has: 17000 rows, and 5 columns\n"
     ]
    },
    {
     "data": {
      "text/html": [
       "<div>\n",
       "<style scoped>\n",
       "    .dataframe tbody tr th:only-of-type {\n",
       "        vertical-align: middle;\n",
       "    }\n",
       "\n",
       "    .dataframe tbody tr th {\n",
       "        vertical-align: top;\n",
       "    }\n",
       "\n",
       "    .dataframe thead th {\n",
       "        text-align: right;\n",
       "    }\n",
       "</style>\n",
       "<table border=\"1\" class=\"dataframe\">\n",
       "  <thead>\n",
       "    <tr style=\"text-align: right;\">\n",
       "      <th></th>\n",
       "      <th>age</th>\n",
       "      <th>became_member_on</th>\n",
       "      <th>gender</th>\n",
       "      <th>id</th>\n",
       "      <th>income</th>\n",
       "    </tr>\n",
       "  </thead>\n",
       "  <tbody>\n",
       "    <tr>\n",
       "      <th>0</th>\n",
       "      <td>118</td>\n",
       "      <td>20170212</td>\n",
       "      <td>None</td>\n",
       "      <td>68be06ca386d4c31939f3a4f0e3dd783</td>\n",
       "      <td>NaN</td>\n",
       "    </tr>\n",
       "    <tr>\n",
       "      <th>1</th>\n",
       "      <td>55</td>\n",
       "      <td>20170715</td>\n",
       "      <td>F</td>\n",
       "      <td>0610b486422d4921ae7d2bf64640c50b</td>\n",
       "      <td>112000.0</td>\n",
       "    </tr>\n",
       "    <tr>\n",
       "      <th>2</th>\n",
       "      <td>118</td>\n",
       "      <td>20180712</td>\n",
       "      <td>None</td>\n",
       "      <td>38fe809add3b4fcf9315a9694bb96ff5</td>\n",
       "      <td>NaN</td>\n",
       "    </tr>\n",
       "    <tr>\n",
       "      <th>3</th>\n",
       "      <td>75</td>\n",
       "      <td>20170509</td>\n",
       "      <td>F</td>\n",
       "      <td>78afa995795e4d85b5d9ceeca43f5fef</td>\n",
       "      <td>100000.0</td>\n",
       "    </tr>\n",
       "    <tr>\n",
       "      <th>4</th>\n",
       "      <td>118</td>\n",
       "      <td>20170804</td>\n",
       "      <td>None</td>\n",
       "      <td>a03223e636434f42ac4c3df47e8bac43</td>\n",
       "      <td>NaN</td>\n",
       "    </tr>\n",
       "  </tbody>\n",
       "</table>\n",
       "</div>"
      ],
      "text/plain": [
       "   age  became_member_on gender                                id    income\n",
       "0  118          20170212   None  68be06ca386d4c31939f3a4f0e3dd783       NaN\n",
       "1   55          20170715      F  0610b486422d4921ae7d2bf64640c50b  112000.0\n",
       "2  118          20180712   None  38fe809add3b4fcf9315a9694bb96ff5       NaN\n",
       "3   75          20170509      F  78afa995795e4d85b5d9ceeca43f5fef  100000.0\n",
       "4  118          20170804   None  a03223e636434f42ac4c3df47e8bac43       NaN"
      ]
     },
     "execution_count": 7,
     "metadata": {},
     "output_type": "execute_result"
    }
   ],
   "source": [
    "# profile data\n",
    "print(\"profile has: \" + str(profile.shape[0])+\" rows, and \"+str(profile.shape[1])+\" columns\")\n",
    "\n",
    "profile.head()"
   ]
  },
  {
   "cell_type": "code",
   "execution_count": 8,
   "metadata": {},
   "outputs": [
    {
     "name": "stdout",
     "output_type": "stream",
     "text": [
      "age                    0\n",
      "became_member_on       0\n",
      "gender              2175\n",
      "id                     0\n",
      "income              2175\n",
      "dtype: int64\n",
      "count    17000.000000\n",
      "mean        62.531412\n",
      "std         26.738580\n",
      "min         18.000000\n",
      "25%         45.000000\n",
      "50%         58.000000\n",
      "75%         73.000000\n",
      "max        118.000000\n",
      "Name: age, dtype: float64\n",
      "count     14825.000000\n",
      "mean      65404.991568\n",
      "std       21598.299410\n",
      "min       30000.000000\n",
      "25%       49000.000000\n",
      "50%       64000.000000\n",
      "75%       80000.000000\n",
      "max      120000.000000\n",
      "Name: income, dtype: float64\n",
      "M    8484\n",
      "F    6129\n",
      "O     212\n",
      "Name: gender, dtype: int64\n"
     ]
    }
   ],
   "source": [
    "# check for missing data\n",
    "print(profile.isnull().sum())\n",
    "\n",
    "# gain descriptive statistics\n",
    "print(profile['age'].describe())\n",
    "print(profile['income'].describe())\n",
    "print(profile['gender'].value_counts())\n",
    "\n",
    "\n",
    "# there are customer with an age of 118 - this is not correct, how much data does this repersent?\n",
    "np.sum(profile.age>=118)/profile.shape[0]\n",
    "\n",
    "# 12% of the data has the value 118, which is the missing entries for income and gender \n",
    "# should this be removed? could be useful - investigate along with transactions.\n",
    "\n",
    "# check for duplicate ids\n",
    "id_list=list(profile['id'])\n",
    "id_set=set(id_list)\n",
    "\n",
    "assert len(id_list)==len(id_set) # no assertion error raised - id is unique\n"
   ]
  },
  {
   "cell_type": "markdown",
   "metadata": {},
   "source": [
    "There are a number of missing cases for Gender and Income. This is the same amount for those that have an Age of 118. These cases can be investigated further to identify if imputation would be valid or the data should be removed. \n",
    "\n",
    "By creating a variable 'complete' we can explore demographics and inormation available for those that have 'incomplete' information and compare to those that can 'complete' data. Explore this data alongside transactions and offers defore deciding to input or remove."
   ]
  },
  {
   "cell_type": "code",
   "execution_count": 9,
   "metadata": {},
   "outputs": [],
   "source": [
    "# create a feature showing if the profile is complete or incomplete\n",
    "profile['complete']=np.where(profile['income'].isna() & profile['gender'].isna(),'incomplete','complete')\n",
    "\n",
    "# for gender replace missing with unk\n",
    "profile['gender'].fillna(value='UNK',inplace=True)\n",
    "\n",
    "# use get dummies to rearrange this data\n",
    "gender=pd.get_dummies(profile['gender']).add_prefix('gender_')\n",
    "\n",
    "# concat the data together, dropping the original values and adding the new dummy variables\n",
    "profile=pd.concat([profile,gender],axis=1)\n",
    "\n",
    "# change became member to date time variable\n",
    "profile['became_member_on'] = pd.to_datetime(profile['became_member_on'], format='%Y%m%d')\n",
    "\n",
    "# add feature to represent 'tenure' - we will assum the data is relevant as of today\n",
    "today = date.today().strftime('%Y-%m-%d')\n",
    "today = pd.to_datetime(today,format='%Y-%m-%d')\n",
    "\n",
    "profile['tenure'] = (today-pd.DatetimeIndex(profile['became_member_on'])).days\n"
   ]
  },
  {
   "cell_type": "code",
   "execution_count": 10,
   "metadata": {},
   "outputs": [
    {
     "data": {
      "text/html": [
       "<div>\n",
       "<style scoped>\n",
       "    .dataframe tbody tr th:only-of-type {\n",
       "        vertical-align: middle;\n",
       "    }\n",
       "\n",
       "    .dataframe tbody tr th {\n",
       "        vertical-align: top;\n",
       "    }\n",
       "\n",
       "    .dataframe thead th {\n",
       "        text-align: right;\n",
       "    }\n",
       "</style>\n",
       "<table border=\"1\" class=\"dataframe\">\n",
       "  <thead>\n",
       "    <tr style=\"text-align: right;\">\n",
       "      <th></th>\n",
       "      <th>age</th>\n",
       "      <th>became_member_on</th>\n",
       "      <th>gender</th>\n",
       "      <th>id</th>\n",
       "      <th>income</th>\n",
       "      <th>complete</th>\n",
       "      <th>gender_F</th>\n",
       "      <th>gender_M</th>\n",
       "      <th>gender_O</th>\n",
       "      <th>gender_UNK</th>\n",
       "      <th>tenure</th>\n",
       "    </tr>\n",
       "  </thead>\n",
       "  <tbody>\n",
       "    <tr>\n",
       "      <th>0</th>\n",
       "      <td>118</td>\n",
       "      <td>2017-02-12</td>\n",
       "      <td>UNK</td>\n",
       "      <td>68be06ca386d4c31939f3a4f0e3dd783</td>\n",
       "      <td>NaN</td>\n",
       "      <td>incomplete</td>\n",
       "      <td>0</td>\n",
       "      <td>0</td>\n",
       "      <td>0</td>\n",
       "      <td>1</td>\n",
       "      <td>1621</td>\n",
       "    </tr>\n",
       "    <tr>\n",
       "      <th>1</th>\n",
       "      <td>55</td>\n",
       "      <td>2017-07-15</td>\n",
       "      <td>F</td>\n",
       "      <td>0610b486422d4921ae7d2bf64640c50b</td>\n",
       "      <td>112000.0</td>\n",
       "      <td>complete</td>\n",
       "      <td>1</td>\n",
       "      <td>0</td>\n",
       "      <td>0</td>\n",
       "      <td>0</td>\n",
       "      <td>1468</td>\n",
       "    </tr>\n",
       "    <tr>\n",
       "      <th>2</th>\n",
       "      <td>118</td>\n",
       "      <td>2018-07-12</td>\n",
       "      <td>UNK</td>\n",
       "      <td>38fe809add3b4fcf9315a9694bb96ff5</td>\n",
       "      <td>NaN</td>\n",
       "      <td>incomplete</td>\n",
       "      <td>0</td>\n",
       "      <td>0</td>\n",
       "      <td>0</td>\n",
       "      <td>1</td>\n",
       "      <td>1106</td>\n",
       "    </tr>\n",
       "    <tr>\n",
       "      <th>3</th>\n",
       "      <td>75</td>\n",
       "      <td>2017-05-09</td>\n",
       "      <td>F</td>\n",
       "      <td>78afa995795e4d85b5d9ceeca43f5fef</td>\n",
       "      <td>100000.0</td>\n",
       "      <td>complete</td>\n",
       "      <td>1</td>\n",
       "      <td>0</td>\n",
       "      <td>0</td>\n",
       "      <td>0</td>\n",
       "      <td>1535</td>\n",
       "    </tr>\n",
       "    <tr>\n",
       "      <th>4</th>\n",
       "      <td>118</td>\n",
       "      <td>2017-08-04</td>\n",
       "      <td>UNK</td>\n",
       "      <td>a03223e636434f42ac4c3df47e8bac43</td>\n",
       "      <td>NaN</td>\n",
       "      <td>incomplete</td>\n",
       "      <td>0</td>\n",
       "      <td>0</td>\n",
       "      <td>0</td>\n",
       "      <td>1</td>\n",
       "      <td>1448</td>\n",
       "    </tr>\n",
       "  </tbody>\n",
       "</table>\n",
       "</div>"
      ],
      "text/plain": [
       "   age became_member_on gender                                id    income  \\\n",
       "0  118       2017-02-12    UNK  68be06ca386d4c31939f3a4f0e3dd783       NaN   \n",
       "1   55       2017-07-15      F  0610b486422d4921ae7d2bf64640c50b  112000.0   \n",
       "2  118       2018-07-12    UNK  38fe809add3b4fcf9315a9694bb96ff5       NaN   \n",
       "3   75       2017-05-09      F  78afa995795e4d85b5d9ceeca43f5fef  100000.0   \n",
       "4  118       2017-08-04    UNK  a03223e636434f42ac4c3df47e8bac43       NaN   \n",
       "\n",
       "     complete  gender_F  gender_M  gender_O  gender_UNK  tenure  \n",
       "0  incomplete         0         0         0           1    1621  \n",
       "1    complete         1         0         0           0    1468  \n",
       "2  incomplete         0         0         0           1    1106  \n",
       "3    complete         1         0         0           0    1535  \n",
       "4  incomplete         0         0         0           1    1448  "
      ]
     },
     "execution_count": 10,
     "metadata": {},
     "output_type": "execute_result"
    }
   ],
   "source": [
    "# check the data is now formatted correctly\n",
    "profile.head()"
   ]
  },
  {
   "cell_type": "markdown",
   "metadata": {},
   "source": [
    "# Investigate and tidy the Transcript data"
   ]
  },
  {
   "cell_type": "code",
   "execution_count": 11,
   "metadata": {},
   "outputs": [
    {
     "name": "stdout",
     "output_type": "stream",
     "text": [
      "transcript has: 306534 rows, and 4 columns\n",
      "transaction        138953\n",
      "offer received      76277\n",
      "offer viewed        57725\n",
      "offer completed     33579\n",
      "Name: event, dtype: int64\n"
     ]
    },
    {
     "data": {
      "text/html": [
       "<div>\n",
       "<style scoped>\n",
       "    .dataframe tbody tr th:only-of-type {\n",
       "        vertical-align: middle;\n",
       "    }\n",
       "\n",
       "    .dataframe tbody tr th {\n",
       "        vertical-align: top;\n",
       "    }\n",
       "\n",
       "    .dataframe thead th {\n",
       "        text-align: right;\n",
       "    }\n",
       "</style>\n",
       "<table border=\"1\" class=\"dataframe\">\n",
       "  <thead>\n",
       "    <tr style=\"text-align: right;\">\n",
       "      <th></th>\n",
       "      <th>event</th>\n",
       "      <th>person</th>\n",
       "      <th>time</th>\n",
       "      <th>value</th>\n",
       "    </tr>\n",
       "  </thead>\n",
       "  <tbody>\n",
       "    <tr>\n",
       "      <th>0</th>\n",
       "      <td>offer received</td>\n",
       "      <td>78afa995795e4d85b5d9ceeca43f5fef</td>\n",
       "      <td>0</td>\n",
       "      <td>{'offer id': '9b98b8c7a33c4b65b9aebfe6a799e6d9'}</td>\n",
       "    </tr>\n",
       "    <tr>\n",
       "      <th>1</th>\n",
       "      <td>offer received</td>\n",
       "      <td>a03223e636434f42ac4c3df47e8bac43</td>\n",
       "      <td>0</td>\n",
       "      <td>{'offer id': '0b1e1539f2cc45b7b9fa7c272da2e1d7'}</td>\n",
       "    </tr>\n",
       "    <tr>\n",
       "      <th>2</th>\n",
       "      <td>offer received</td>\n",
       "      <td>e2127556f4f64592b11af22de27a7932</td>\n",
       "      <td>0</td>\n",
       "      <td>{'offer id': '2906b810c7d4411798c6938adc9daaa5'}</td>\n",
       "    </tr>\n",
       "    <tr>\n",
       "      <th>3</th>\n",
       "      <td>offer received</td>\n",
       "      <td>8ec6ce2a7e7949b1bf142def7d0e0586</td>\n",
       "      <td>0</td>\n",
       "      <td>{'offer id': 'fafdcd668e3743c1bb461111dcafc2a4'}</td>\n",
       "    </tr>\n",
       "    <tr>\n",
       "      <th>4</th>\n",
       "      <td>offer received</td>\n",
       "      <td>68617ca6246f4fbc85e91a2a49552598</td>\n",
       "      <td>0</td>\n",
       "      <td>{'offer id': '4d5c57ea9a6940dd891ad53e9dbe8da0'}</td>\n",
       "    </tr>\n",
       "  </tbody>\n",
       "</table>\n",
       "</div>"
      ],
      "text/plain": [
       "            event                            person  time  \\\n",
       "0  offer received  78afa995795e4d85b5d9ceeca43f5fef     0   \n",
       "1  offer received  a03223e636434f42ac4c3df47e8bac43     0   \n",
       "2  offer received  e2127556f4f64592b11af22de27a7932     0   \n",
       "3  offer received  8ec6ce2a7e7949b1bf142def7d0e0586     0   \n",
       "4  offer received  68617ca6246f4fbc85e91a2a49552598     0   \n",
       "\n",
       "                                              value  \n",
       "0  {'offer id': '9b98b8c7a33c4b65b9aebfe6a799e6d9'}  \n",
       "1  {'offer id': '0b1e1539f2cc45b7b9fa7c272da2e1d7'}  \n",
       "2  {'offer id': '2906b810c7d4411798c6938adc9daaa5'}  \n",
       "3  {'offer id': 'fafdcd668e3743c1bb461111dcafc2a4'}  \n",
       "4  {'offer id': '4d5c57ea9a6940dd891ad53e9dbe8da0'}  "
      ]
     },
     "execution_count": 11,
     "metadata": {},
     "output_type": "execute_result"
    }
   ],
   "source": [
    "## what does the shape look like? \n",
    "print(\"transcript has: \" + str(transcript.shape[0])+\" rows, and \"+str(transcript.shape[1])+\" columns\")\n",
    "\n",
    "# values of the event columns\n",
    "print(transcript.event.value_counts())\n",
    "\n",
    "transcript.head()\n"
   ]
  },
  {
   "cell_type": "code",
   "execution_count": 12,
   "metadata": {},
   "outputs": [],
   "source": [
    "# extract item out of the dictionary and store it as new field \n",
    "fields=['offer id','amount']\n",
    "\n",
    "# iterate through a field list, access the dictionary using 'get' - use lambda to apply this to a new field\n",
    "for var in fields:\n",
    "    transcript[var] = transcript['value'].apply(lambda x: x.get(var))\n",
    "\n",
    "# drop value - no longer required\n",
    "transcript.drop(['value'],axis=1,inplace=True)\n",
    "\n",
    "# create a duplicate offer-id - we will use this to compare when the offer was on/not on\n",
    "transcript['offer']=transcript['offer id']\n",
    "transcript=transcript.sort_values(by=['person','time'])\n",
    "\n",
    "# fill forward the offer - this provides the window  until then next offer was recevied - add duration to check valid\n",
    "# Assumption: The cusotmer is influenced by an offer until the next offer is received. \n",
    "transcript['offer'] = transcript['offer'].ffill()\n"
   ]
  },
  {
   "cell_type": "markdown",
   "metadata": {},
   "source": [
    "Above we have used Fill Forward. The id for the offer only appreads when it is received, viewed or completed. In using Fill Forward we are assuming that the customer is being infuenced by the offer until the next offer is received. Transactions occuring from when an offer is received to one the next offer is received are then assigned to set 'windows'. It is then possible to consider whether a transaction was valid within the the window period.\n"
   ]
  },
  {
   "cell_type": "markdown",
   "metadata": {},
   "source": [
    "# Create sample data for testing and population data"
   ]
  },
  {
   "cell_type": "code",
   "execution_count": 13,
   "metadata": {},
   "outputs": [
    {
     "name": "stdout",
     "output_type": "stream",
     "text": [
      "Number of customers: 17000\n",
      "My sample to test:10000\n"
     ]
    }
   ],
   "source": [
    "# create a list of all persons within the data \n",
    "customers=list(set(transcript['person']))\n",
    "print(\"Number of customers: \"+str(len(customers)))\n",
    "\n",
    "\n",
    "# there are 17k customers - build on a random sample then test\n",
    "customers_samp=sample(customers,10000)\n",
    "print(\"My sample to test:\" +str(len(customers_samp)))"
   ]
  },
  {
   "cell_type": "code",
   "execution_count": 14,
   "metadata": {},
   "outputs": [],
   "source": [
    "#test_person=['b895c57e8cd047a8872ce02aa54759d6','e2127556f4f64592b11af22de27a7932']\n",
    "\n",
    "transcript_cpy=transcript\n",
    "\n",
    "# create a blank data frame - we will append each person to the file as we calculate their time windows\n",
    "transcript_win = pd.DataFrame([])\n",
    "counter=0\n",
    "\n",
    "for ppl in customers:\n",
    "    transcript_per=transcript_cpy[transcript_cpy['person']==ppl].sort_values(by=['time'])\n",
    "       \n",
    "    # create a concept of a 'block' this is the collection of transaction from when an offer is issued to the next\n",
    "    transcript_per['block'] = (transcript_per['offer'] != transcript_per['offer'].shift(1)).astype(int).cumsum()\n",
    "           \n",
    "    # take the lag of time for each block - we can then compare when once block stops and another starts\n",
    "    shift_time=transcript_per.groupby(['block'])['time'].shift(periods=1)\n",
    "        \n",
    "    # if the time is not eq to the lag time use 0 else take the difference\n",
    "    transcript_per['window_diffs']= np.where((transcript_per['time']==shift_time),\\\n",
    "                                             0,transcript_per['time']-shift_time)\n",
    "      \n",
    "    # append this person batch on to the blank frame\n",
    "    transcript_win=transcript_win.append(transcript_per)\n",
    "        \n",
    "    #counter+=1\n",
    "    #print(counter)\n",
    "    \n",
    "# finally we now need to get the cummulative amount for each window diff\n",
    "transcript_win['window_diffs'].fillna(0,inplace=True)\n",
    "transcript_win['window_diffs2']=transcript_win.groupby(['person','block'])['window_diffs'].cumsum()"
   ]
  },
  {
   "cell_type": "markdown",
   "metadata": {},
   "source": [
    "# Attach Portfolio data and checking validity period"
   ]
  },
  {
   "cell_type": "code",
   "execution_count": 15,
   "metadata": {},
   "outputs": [],
   "source": [
    "# join the portfolio data - we only require duration and offer to check validity windows\n",
    "\n",
    "# transcript - long file with multiple rows per person\n",
    "# portfolio - provides the offer types\n",
    "\n",
    "# key to join Left: offer id, Right: offer_id\n",
    "trans_offer=pd.merge(transcript_win,portfolio[['offer id','duration_hrs']], how='left', left_on='offer',right_on='offer id')\n",
    "\n",
    "# was the offer valid at the time the transaction was used?\n",
    "trans_offer['valid']=np.where(trans_offer['window_diffs2']-trans_offer['duration_hrs']<0,'In offer','Out offer')"
   ]
  },
  {
   "cell_type": "code",
   "execution_count": 16,
   "metadata": {},
   "outputs": [],
   "source": [
    "# gain the total amount of monies that occured in the blocks\n",
    "sums=trans_offer.groupby(['person','block','event','valid'])['amount'].sum()\n",
    "sum_df=pd.DataFrame(sums).reset_index()"
   ]
  },
  {
   "cell_type": "markdown",
   "metadata": {},
   "source": [
    "With the transactions and offers merged we can now look at the transaction amounts. Using the 'valid' offer we will create total total transaction amounts by this group. \n",
    "\n",
    "We will also create new features showing the total transactions sum and also the cummulative amounts spent. The cummulative amount spent will be based on a lag value - thus, it is the total amount spent prior to the next 'block window' occuring when a new offer is issued. The hypothesis is that the sum of the monies spent prior to an offer being issued is important in deciding whether to accept the next offer."
   ]
  },
  {
   "cell_type": "code",
   "execution_count": 17,
   "metadata": {},
   "outputs": [],
   "source": [
    "# unstack and join back to main source - data now has indicator if transaction total was in offer or out\n",
    "\n",
    "# use dummies on event \n",
    "event=pd.get_dummies(sum_df['event'])\n",
    "event=event[['offer received','offer viewed','offer completed','transaction']]\n",
    "\n",
    "\n",
    "# concat the data together, dropping the original values and adding the new dummy variables\n",
    "transcript_oneline=pd.concat([sum_df.drop(['event'],axis=1),event],axis=1)\n",
    " \n",
    "# sum by the person and the block to gain total amounts for transactions and activity    \n",
    "transcript_oneline=pd.DataFrame(transcript_oneline.groupby(['person','block','valid']).sum()).reset_index()\n",
    "\n",
    "# split the data so there is a frame for in and out - create totals for amounts associated with each\n",
    "transcript_in=transcript_oneline[transcript_oneline['valid']=='In offer'].rename(columns={'amount':'in_offer_amt'}).\\\n",
    "            drop('valid',axis=1)\n",
    "\n",
    "transcript_out=transcript_oneline[transcript_oneline['valid']=='Out offer'].rename(columns={'amount':'out_offer_amt'}).\\\n",
    "            drop(['valid','offer received','offer viewed','offer completed','transaction'],axis=1)\n",
    "\n",
    "# merge both the in offer and out of offer frames together\n",
    "transcript_fin=pd.merge(transcript_in,transcript_out, how='left', on=['person','block'])\n",
    "\n",
    "# create a new feature showing amounts spent at the previous offer and cumulatitive amounts spent on offers\n",
    "transcript_fin['total_trans']=transcript_fin['in_offer_amt'].fillna(0)+transcript_fin['out_offer_amt'].fillna(0)\n",
    "transcript_fin['prev_offer_amt']=transcript_fin.groupby(['person'])['total_trans'].shift(periods=1)\n",
    "transcript_fin['cum_offer_amt']=transcript_fin.groupby(['person'])['prev_offer_amt'].cumsum()\n"
   ]
  },
  {
   "cell_type": "markdown",
   "metadata": {},
   "source": [
    "# Join all sources of data together\n",
    "\n",
    "We now have our transactions for each customer arranged into 'windows' based on the time they received the offer. Each window has an offer or 'no offer' along with monies spent in offer and out of offer.\n",
    "\n",
    "The remaining portfolio data and profile information can now be added"
   ]
  },
  {
   "cell_type": "code",
   "execution_count": 18,
   "metadata": {},
   "outputs": [
    {
     "name": "stdout",
     "output_type": "stream",
     "text": [
      "Index(['person', 'block', 'in_offer_amt', 'offer received', 'offer viewed',\n",
      "       'offer completed', 'transaction', 'out_offer_amt', 'total_trans',\n",
      "       'prev_offer_amt', 'cum_offer_amt', 'offer id', 'channels', 'difficulty',\n",
      "       'offer_type', 'reward', 'off_difredu', 'offer_num', 'age',\n",
      "       'became_member_on', 'gender', 'id', 'income', 'complete', 'gender_F',\n",
      "       'gender_M', 'gender_O', 'gender_UNK', 'tenure'],\n",
      "      dtype='object')\n",
      "\n",
      "starbucks has: 72658 rows, and 29 columns\n"
     ]
    }
   ],
   "source": [
    "# now attach on rest of portfolio data as well as customer data\n",
    "\n",
    "# merge by person and block\n",
    "# join 1 - use transcript_win to gain offer id for the block\n",
    "trans=pd.merge(transcript_fin,transcript_win[['person','offer id','block']].drop_duplicates().dropna(),\\\n",
    "                    how='left',on=['person','block'])\n",
    "\n",
    "# join 2 - use portfolio for the offer types\n",
    "trans_offers=pd.merge(trans,portfolio.drop(['duration','duration_hrs'],axis=1),how='left',on='offer id')\n",
    "\n",
    "# join 3 - add on customer information\n",
    "starbucks=pd.merge(trans_offers,profile,how='left',left_on='person',right_on='id')\n",
    "\n",
    "# check the columns within the frame\n",
    "print(starbucks.columns)\n",
    "\n",
    "print(\"\")\n",
    "# how does my starbucks frame look\n",
    "print(\"starbucks has: \" + str(starbucks.shape[0])+\" rows, and \"+str(starbucks.shape[1])+\" columns\")"
   ]
  },
  {
   "cell_type": "markdown",
   "metadata": {},
   "source": [
    "# Missing entries in main data\n",
    "\n",
    "On the main starbucks frame, we can now explore and impute or remove missing information"
   ]
  },
  {
   "cell_type": "code",
   "execution_count": 19,
   "metadata": {},
   "outputs": [
    {
     "name": "stdout",
     "output_type": "stream",
     "text": [
      "person                  0\n",
      "block                   0\n",
      "in_offer_amt            0\n",
      "offer received          0\n",
      "offer viewed            0\n",
      "offer completed         0\n",
      "transaction             0\n",
      "out_offer_amt       58495\n",
      "total_trans             0\n",
      "prev_offer_amt      17000\n",
      "cum_offer_amt       17000\n",
      "channels             2330\n",
      "difficulty           2330\n",
      "offer_type           2330\n",
      "reward               2330\n",
      "off_difredu          2330\n",
      "offer_num            2330\n",
      "age                     0\n",
      "became_member_on        0\n",
      "gender                  0\n",
      "income               9272\n",
      "complete                0\n",
      "gender_F                0\n",
      "gender_M                0\n",
      "gender_O                0\n",
      "gender_UNK              0\n",
      "tenure                  0\n",
      "dtype: int64\n"
     ]
    }
   ],
   "source": [
    "# drop fields not requried: 'offer id','id'\n",
    "starbucks.drop(['id','offer id'],axis=1,inplace=True)\n",
    "\n",
    "# check for missing information\n",
    "print(starbucks.isnull().sum())\n"
   ]
  },
  {
   "cell_type": "code",
   "execution_count": 20,
   "metadata": {},
   "outputs": [],
   "source": [
    "# for offer replace missing with no offer\n",
    "starbucks.fillna({'offer_type':'No offer', 'off_difredu':'No offer', 'offer_num':'No offer'}, inplace=True)\n",
    "\n",
    "# set difficulty, reward and duration to 0 - there was no offer so these could be 0\n",
    "starbucks.fillna({'difficulty':0, 'reward':0, 'duration':0}, inplace=True)\n",
    "\n",
    "# where the out of offer amount, orev or cum amounts = na then fill with 0\n",
    "starbucks.fillna({'out_offer_amt':0, 'prev_offer_amt':0, 'cum_offer_amt':0}, inplace=True)\n",
    "\n",
    "# use get_dummies on the offer type and the channel type, also the offers with difficulty and reward\n",
    "offers=pd.get_dummies(starbucks['offer_type'],dummy_na=True).add_prefix('offer_')\n",
    "offers_detail=pd.get_dummies(starbucks['off_difredu'],dummy_na=True).add_prefix('type_')\n",
    "\n",
    "channels=starbucks.channels.str.join('|').str.get_dummies().add_prefix('chan_')\n",
    "\n",
    "## check for duplicates when merging\n",
    "dupes=starbucks.groupby(['person','block'])['person'].count()\n",
    "assert np.sum(dupes>1) ==0\n",
    "\n",
    "# concat all data together\n",
    "starbucks=pd.concat([starbucks.drop(['channels'],axis=1),offers,offers_detail,channels],axis=1)\n"
   ]
  },
  {
   "cell_type": "code",
   "execution_count": 21,
   "metadata": {},
   "outputs": [
    {
     "name": "stdout",
     "output_type": "stream",
     "text": [
      "person                         0\n",
      "block                          0\n",
      "in_offer_amt                   0\n",
      "offer received                 0\n",
      "offer viewed                   0\n",
      "offer completed                0\n",
      "transaction                    0\n",
      "out_offer_amt                  0\n",
      "total_trans                    0\n",
      "prev_offer_amt                 0\n",
      "cum_offer_amt                  0\n",
      "difficulty                     0\n",
      "offer_type                     0\n",
      "reward                         0\n",
      "off_difredu                    0\n",
      "offer_num                      0\n",
      "age                            0\n",
      "became_member_on               0\n",
      "gender                         0\n",
      "income                      9272\n",
      "complete                       0\n",
      "gender_F                       0\n",
      "gender_M                       0\n",
      "gender_O                       0\n",
      "gender_UNK                     0\n",
      "tenure                         0\n",
      "offer_No offer                 0\n",
      "offer_bogo                     0\n",
      "offer_discount                 0\n",
      "offer_informational            0\n",
      "offer_nan                      0\n",
      "type_No offer                  0\n",
      "type_bogo_10_5_10              0\n",
      "type_bogo_10_7_10              0\n",
      "type_bogo_5_5_5                0\n",
      "type_bogo_5_7_5                0\n",
      "type_discount_10_10_2          0\n",
      "type_discount_10_7_2           0\n",
      "type_discount_20_10_5          0\n",
      "type_discount_7_7_3            0\n",
      "type_informational_0_3_0       0\n",
      "type_informational_0_4_0       0\n",
      "type_nan                       0\n",
      "chan_email                     0\n",
      "chan_mobile                    0\n",
      "chan_social                    0\n",
      "chan_web                       0\n",
      "dtype: int64\n"
     ]
    }
   ],
   "source": [
    "# check for missing information\n",
    "print(starbucks.isnull().sum())\n"
   ]
  },
  {
   "cell_type": "code",
   "execution_count": 22,
   "metadata": {},
   "outputs": [
    {
     "data": {
      "text/plain": [
       "incomplete    9272\n",
       "Name: complete, dtype: int64"
      ]
     },
     "execution_count": 22,
     "metadata": {},
     "output_type": "execute_result"
    }
   ],
   "source": [
    "## investiagte the missing information in income    \n",
    "missing_inc=starbucks[starbucks['income'].isna()]\n",
    "\n",
    "missing_inc['complete'].value_counts() # customers with missing income are entierly 'incomplete' customers\n"
   ]
  },
  {
   "cell_type": "code",
   "execution_count": 23,
   "metadata": {},
   "outputs": [
    {
     "name": "stdout",
     "output_type": "stream",
     "text": [
      "complete\n",
      "incomplete    2175\n",
      "Name: person, dtype: int64\n",
      "complete    offer_type   \n",
      "incomplete  No offer          272\n",
      "            bogo             3640\n",
      "            discount         3565\n",
      "            informational    1795\n",
      "Name: person, dtype: int64\n",
      "\n",
      "complete    offer_type   \n",
      "incomplete  No offer          2.933563\n",
      "            bogo             39.257981\n",
      "            discount         38.449094\n",
      "            informational    19.359362\n",
      "Name: person, dtype: float64\n",
      "%of receives that converted to a view: 0.790234679123568\n",
      "\n",
      "%of views that converted to a complete: 0.11597466572836031\n",
      "\n",
      "                     offer completed  in_offer_amt  out_offer_amt       tenure\n",
      "off_difredu                                                                   \n",
      "No offer                    0.000000      3.897647       0.629890  1584.338235\n",
      "bogo_10_5_10                0.049451      3.212275       0.915989  1587.473626\n",
      "bogo_10_7_10                0.068889      4.170678       0.485433  1571.104444\n",
      "bogo_5_5_5                  0.177243      4.083567       1.039015  1579.258206\n",
      "bogo_5_7_5                  0.140830      3.392478       0.355721  1555.479258\n",
      "discount_10_10_2            0.190149      5.824800       0.545097  1591.648339\n",
      "discount_10_7_2             0.086057      3.214488       0.442669  1584.917211\n",
      "discount_20_10_5            0.049539      3.174182       0.228479  1577.220046\n",
      "discount_7_7_3              0.208609      4.811843       0.443168  1544.433775\n",
      "informational_0_3_0         0.033040      2.166751       1.617500  1588.100220\n",
      "informational_0_4_0         0.039459      2.499030       1.048467  1591.173619\n"
     ]
    }
   ],
   "source": [
    "# investigate incomplete customers\n",
    "print(missing_inc.groupby('complete')['person'].nunique())\n",
    "\n",
    "\n",
    "# what type of offers were Incompete sent and what is this as a proportion as the total?\n",
    "incomp_off=missing_inc.groupby(['complete','offer_type'])['person'].count()\n",
    "\n",
    "print(incomp_off)\n",
    "\n",
    "print(\"\")\n",
    "\n",
    "incomp_pcts = incomp_off.groupby(level=0).apply(lambda x:100 * x / float(x.sum()))\n",
    "print(incomp_pcts)\n",
    "\n",
    "# and how successful were incomplete cusotmers when given offers?\n",
    "\n",
    "# Q. How many offers were received and the customers that viewed them \n",
    "rec= missing_inc['offer received']==1\n",
    "view=missing_inc['offer viewed']==1\n",
    "\n",
    "rec_to_view=np.sum(rec&view)\n",
    "# proportion of receives that went to view \n",
    "print(\"%of receives that converted to a view: \"+str(rec_to_view.sum()/rec.sum()))\n",
    "\n",
    "# Q. How many completions occured once an offer was viewed \n",
    "comp= missing_inc['offer completed']==1\n",
    "\n",
    "view_to_comp=np.sum(view&comp)\n",
    "\n",
    "print(\"\")\n",
    "# proportion of views that went to a complete \n",
    "print(\"%of views that converted to a complete: \"+str(view_to_comp.sum()/view.sum()))\n",
    "\n",
    "\n",
    "print(\"\")\n",
    "# and how well did offers perform for incomplete customers\n",
    "# how much is their total spend compared to complete customers?\n",
    "print(missing_inc.groupby('off_difredu')['offer completed','in_offer_amt','out_offer_amt','tenure'].mean())\n"
   ]
  },
  {
   "cell_type": "markdown",
   "metadata": {},
   "source": [
    "# Remove missing entries\n",
    "\n",
    "Incomplete cases make up 12% of this data, and the response to an offer when it is viewed is also low, with some offers having a response only 4%, compared to the compete group which is ~50%. The average monies spent to are also low in comparisson to the complete group. In recommending offers - we could create a rule where customers with incomplete details are not offered promotions. \n",
    "\n",
    "It is decided to remove cases that are 'incomplete'. Imputation was considered, but with 12% of the data missing, imputating the mean age may not be a reasonable and isntead focus result around the mean.  "
   ]
  },
  {
   "cell_type": "code",
   "execution_count": 24,
   "metadata": {},
   "outputs": [
    {
     "name": "stdout",
     "output_type": "stream",
     "text": [
      "starbucks has: 63386 rows, and 47 columns\n"
     ]
    },
    {
     "data": {
      "text/html": [
       "<div>\n",
       "<style scoped>\n",
       "    .dataframe tbody tr th:only-of-type {\n",
       "        vertical-align: middle;\n",
       "    }\n",
       "\n",
       "    .dataframe tbody tr th {\n",
       "        vertical-align: top;\n",
       "    }\n",
       "\n",
       "    .dataframe thead th {\n",
       "        text-align: right;\n",
       "    }\n",
       "</style>\n",
       "<table border=\"1\" class=\"dataframe\">\n",
       "  <thead>\n",
       "    <tr style=\"text-align: right;\">\n",
       "      <th></th>\n",
       "      <th>person</th>\n",
       "      <th>block</th>\n",
       "      <th>in_offer_amt</th>\n",
       "      <th>offer received</th>\n",
       "      <th>offer viewed</th>\n",
       "      <th>offer completed</th>\n",
       "      <th>transaction</th>\n",
       "      <th>out_offer_amt</th>\n",
       "      <th>total_trans</th>\n",
       "      <th>prev_offer_amt</th>\n",
       "      <th>...</th>\n",
       "      <th>type_discount_10_7_2</th>\n",
       "      <th>type_discount_20_10_5</th>\n",
       "      <th>type_discount_7_7_3</th>\n",
       "      <th>type_informational_0_3_0</th>\n",
       "      <th>type_informational_0_4_0</th>\n",
       "      <th>type_nan</th>\n",
       "      <th>chan_email</th>\n",
       "      <th>chan_mobile</th>\n",
       "      <th>chan_social</th>\n",
       "      <th>chan_web</th>\n",
       "    </tr>\n",
       "  </thead>\n",
       "  <tbody>\n",
       "    <tr>\n",
       "      <th>0</th>\n",
       "      <td>0009655768c64bdeb2e877511632db8f</td>\n",
       "      <td>1</td>\n",
       "      <td>22.16</td>\n",
       "      <td>1</td>\n",
       "      <td>1</td>\n",
       "      <td>0</td>\n",
       "      <td>1</td>\n",
       "      <td>0.0</td>\n",
       "      <td>22.16</td>\n",
       "      <td>0.00</td>\n",
       "      <td>...</td>\n",
       "      <td>0</td>\n",
       "      <td>0</td>\n",
       "      <td>0</td>\n",
       "      <td>1</td>\n",
       "      <td>0</td>\n",
       "      <td>0</td>\n",
       "      <td>1</td>\n",
       "      <td>1</td>\n",
       "      <td>1</td>\n",
       "      <td>0</td>\n",
       "    </tr>\n",
       "    <tr>\n",
       "      <th>1</th>\n",
       "      <td>0009655768c64bdeb2e877511632db8f</td>\n",
       "      <td>2</td>\n",
       "      <td>0.00</td>\n",
       "      <td>1</td>\n",
       "      <td>1</td>\n",
       "      <td>0</td>\n",
       "      <td>0</td>\n",
       "      <td>0.0</td>\n",
       "      <td>0.00</td>\n",
       "      <td>22.16</td>\n",
       "      <td>...</td>\n",
       "      <td>0</td>\n",
       "      <td>0</td>\n",
       "      <td>0</td>\n",
       "      <td>0</td>\n",
       "      <td>1</td>\n",
       "      <td>0</td>\n",
       "      <td>1</td>\n",
       "      <td>1</td>\n",
       "      <td>0</td>\n",
       "      <td>1</td>\n",
       "    </tr>\n",
       "    <tr>\n",
       "      <th>2</th>\n",
       "      <td>0009655768c64bdeb2e877511632db8f</td>\n",
       "      <td>3</td>\n",
       "      <td>8.57</td>\n",
       "      <td>1</td>\n",
       "      <td>1</td>\n",
       "      <td>1</td>\n",
       "      <td>1</td>\n",
       "      <td>0.0</td>\n",
       "      <td>8.57</td>\n",
       "      <td>0.00</td>\n",
       "      <td>...</td>\n",
       "      <td>0</td>\n",
       "      <td>0</td>\n",
       "      <td>0</td>\n",
       "      <td>0</td>\n",
       "      <td>0</td>\n",
       "      <td>0</td>\n",
       "      <td>1</td>\n",
       "      <td>1</td>\n",
       "      <td>1</td>\n",
       "      <td>1</td>\n",
       "    </tr>\n",
       "    <tr>\n",
       "      <th>3</th>\n",
       "      <td>0009655768c64bdeb2e877511632db8f</td>\n",
       "      <td>4</td>\n",
       "      <td>27.67</td>\n",
       "      <td>1</td>\n",
       "      <td>1</td>\n",
       "      <td>1</td>\n",
       "      <td>1</td>\n",
       "      <td>0.0</td>\n",
       "      <td>27.67</td>\n",
       "      <td>8.57</td>\n",
       "      <td>...</td>\n",
       "      <td>0</td>\n",
       "      <td>0</td>\n",
       "      <td>0</td>\n",
       "      <td>0</td>\n",
       "      <td>0</td>\n",
       "      <td>0</td>\n",
       "      <td>1</td>\n",
       "      <td>1</td>\n",
       "      <td>1</td>\n",
       "      <td>1</td>\n",
       "    </tr>\n",
       "    <tr>\n",
       "      <th>4</th>\n",
       "      <td>0009655768c64bdeb2e877511632db8f</td>\n",
       "      <td>5</td>\n",
       "      <td>69.20</td>\n",
       "      <td>1</td>\n",
       "      <td>0</td>\n",
       "      <td>1</td>\n",
       "      <td>1</td>\n",
       "      <td>0.0</td>\n",
       "      <td>69.20</td>\n",
       "      <td>27.67</td>\n",
       "      <td>...</td>\n",
       "      <td>1</td>\n",
       "      <td>0</td>\n",
       "      <td>0</td>\n",
       "      <td>0</td>\n",
       "      <td>0</td>\n",
       "      <td>0</td>\n",
       "      <td>1</td>\n",
       "      <td>1</td>\n",
       "      <td>0</td>\n",
       "      <td>1</td>\n",
       "    </tr>\n",
       "  </tbody>\n",
       "</table>\n",
       "<p>5 rows × 47 columns</p>\n",
       "</div>"
      ],
      "text/plain": [
       "                             person  block  in_offer_amt  offer received  \\\n",
       "0  0009655768c64bdeb2e877511632db8f      1         22.16               1   \n",
       "1  0009655768c64bdeb2e877511632db8f      2          0.00               1   \n",
       "2  0009655768c64bdeb2e877511632db8f      3          8.57               1   \n",
       "3  0009655768c64bdeb2e877511632db8f      4         27.67               1   \n",
       "4  0009655768c64bdeb2e877511632db8f      5         69.20               1   \n",
       "\n",
       "   offer viewed  offer completed  transaction  out_offer_amt  total_trans  \\\n",
       "0             1                0            1            0.0        22.16   \n",
       "1             1                0            0            0.0         0.00   \n",
       "2             1                1            1            0.0         8.57   \n",
       "3             1                1            1            0.0        27.67   \n",
       "4             0                1            1            0.0        69.20   \n",
       "\n",
       "   prev_offer_amt    ...     type_discount_10_7_2  type_discount_20_10_5  \\\n",
       "0            0.00    ...                        0                      0   \n",
       "1           22.16    ...                        0                      0   \n",
       "2            0.00    ...                        0                      0   \n",
       "3            8.57    ...                        0                      0   \n",
       "4           27.67    ...                        1                      0   \n",
       "\n",
       "  type_discount_7_7_3  type_informational_0_3_0 type_informational_0_4_0  \\\n",
       "0                   0                         1                        0   \n",
       "1                   0                         0                        1   \n",
       "2                   0                         0                        0   \n",
       "3                   0                         0                        0   \n",
       "4                   0                         0                        0   \n",
       "\n",
       "  type_nan  chan_email chan_mobile chan_social  chan_web  \n",
       "0        0           1           1           1         0  \n",
       "1        0           1           1           0         1  \n",
       "2        0           1           1           1         1  \n",
       "3        0           1           1           1         1  \n",
       "4        0           1           1           0         1  \n",
       "\n",
       "[5 rows x 47 columns]"
      ]
     },
     "execution_count": 24,
     "metadata": {},
     "output_type": "execute_result"
    }
   ],
   "source": [
    "starbucks.dropna(inplace=True)\n",
    "\n",
    "# what is the shape of my final data\n",
    "print(\"starbucks has: \" + str(starbucks.shape[0])+\" rows, and \"+str(starbucks.shape[1])+\" columns\")\n",
    "\n",
    "# gain snap shot of one customer\n",
    "starbucks[starbucks['person']=='0009655768c64bdeb2e877511632db8f']\n"
   ]
  },
  {
   "cell_type": "markdown",
   "metadata": {},
   "source": [
    "# Exploratory Data Analysis\n",
    "\n",
    "The response variable we are measuring is: proportion of offers viewed that led to completion\n",
    "\n",
    "Customers can be provided with more that one offer throughout the experiment, therefore completion can occur more that once too. Instead of counting distinct customers instead count the number of 'touch points'. A touch point is any interaction starbucks has had with a customer. If a customer has been sent 5 offers over the experiment then there has been 5 'touch points' with this customer. "
   ]
  },
  {
   "cell_type": "code",
   "execution_count": 25,
   "metadata": {},
   "outputs": [
    {
     "name": "stdout",
     "output_type": "stream",
     "text": [
      "Total customers: 14825\n",
      "Total touch points: 63386\n"
     ]
    },
    {
     "data": {
      "image/png": "[encoded data removed]",
      "text/plain": [
       "<Figure size 432x288 with 1 Axes>"
      ]
     },
     "metadata": {
      "needs_background": "light"
     },
     "output_type": "display_data"
    },
    {
     "name": "stdout",
     "output_type": "stream",
     "text": [
      "      offer_type  person   percent\n",
      "0       No offer    2058  0.138820\n",
      "1           bogo   13082  0.882428\n",
      "2       discount   13042  0.879730\n",
      "3  informational    9200  0.620573\n"
     ]
    },
    {
     "data": {
      "image/png": "[encoded data removed]",
      "text/plain": [
       "<Figure size 432x288 with 1 Axes>"
      ]
     },
     "metadata": {
      "needs_background": "light"
     },
     "output_type": "display_data"
    },
    {
     "name": "stdout",
     "output_type": "stream",
     "text": [
      "      offer_type  person   percent\n",
      "0       No offer    2058  0.138820\n",
      "1           bogo   13082  0.882428\n",
      "2       discount   13042  0.879730\n",
      "3  informational    9200  0.620573\n"
     ]
    }
   ],
   "source": [
    "# how many customers do we have?\n",
    "total_cust=len(np.unique(starbucks.person))\n",
    "print(\"Total customers: \"+str(total_cust))\n",
    "\n",
    "# how many customer touch points are there? A touch point is a collection of rows\n",
    "total_touch=len(starbucks.person)\n",
    "print(\"Total touch points: \"+str(total_touch))\n",
    "\n",
    "# distribution of customers to offer\n",
    "bar_offer=pd.DataFrame(starbucks.groupby('offer_type')['person'].count()).reset_index()\n",
    "\n",
    "ax = sns.barplot(x=\"offer_type\", y=\"person\", data=bar_offer)\n",
    "plt.xlabel('Number of offers')\n",
    "plt.ylabel('Total customers')\n",
    "plt.title('Total offers issued to customers')\n",
    "plt.show()\n",
    "\n",
    "\n",
    "# count distinct offers to customers (i.e. if a cusotmer is issued 'discount' twice we count this as 1)\n",
    "# distribution of customers to offer\n",
    "bar_offer_unq=pd.DataFrame(starbucks.groupby('offer_type')['person'].nunique()).reset_index()\n",
    "\n",
    "#percentages of unique customers to offers\n",
    "bar_offer_unq['percent']=bar_offer_unq['person']/total_cust\n",
    "print(bar_offer_unq)\n",
    "\n",
    "ax = sns.barplot(x=\"offer_type\", y=\"person\", data=bar_offer_unq)\n",
    "plt.xlabel('Number of offers')\n",
    "plt.ylabel('Total customers')\n",
    "plt.title('Unique offers issued to customers')\n",
    "plt.show()\n",
    "\n",
    "\n",
    "specific_off_unq=pd.DataFrame(starbucks.groupby('off_difredu')['person'].nunique()).reset_index()\n",
    "\n",
    "#percentages of unique customers to offers\n",
    "specific_off_unq['percent']=bar_offer_unq['person']/total_cust\n",
    "print(bar_offer_unq)\n",
    "\n",
    "\n"
   ]
  },
  {
   "cell_type": "markdown",
   "metadata": {},
   "source": [
    "# How successful were our offers?"
   ]
  },
  {
   "cell_type": "code",
   "execution_count": 26,
   "metadata": {},
   "outputs": [
    {
     "name": "stdout",
     "output_type": "stream",
     "text": [
      "Total touch points: 63386\n",
      "Total offers received: 61245 , which is 0.966222825229546\n",
      "\n",
      "Number of views that resulted when an offer was received: 45042\n",
      "%of receives that converted to a view: 0.7354396277247123\n",
      "\n",
      "Number of completions that resulted when an offer was viewed: 22931\n",
      "%of views that converted to a completion: 0.5091026153367968\n"
     ]
    }
   ],
   "source": [
    "# number of customer connections\n",
    "print(\"Total touch points: \"+str(total_touch))\n",
    "\n",
    "# number of offers received\n",
    "off_rec_tot=starbucks['offer received'].sum()\n",
    "off_rec_avg=starbucks['offer received'].mean()\n",
    "print(\"Total offers received: \"+str(off_rec_tot)+ \" , which is \"+str(off_rec_avg))\n",
    "\n",
    "# number of receives that resulted in a view\n",
    "rec= starbucks['offer received']==1\n",
    "view=starbucks['offer viewed']==1\n",
    "\n",
    "starbucks['rec_to_view']= starbucks.apply(lambda row: row['offer received'] * row['offer viewed'], axis=1)\n",
    "rec_to_view=np.sum(starbucks['rec_to_view']==1)\n",
    "\n",
    "\n",
    "print(\"\")\n",
    "print(\"Number of views that resulted when an offer was received: \"+str(rec_to_view))\n",
    "\n",
    "\n",
    "# proportion of receives that went to view \n",
    "print(\"%of receives that converted to a view: \"+str(rec_to_view/rec.sum()))\n",
    "\n",
    "\n",
    "# number of completions that resulted after a view (assuming customer must receive to view)\n",
    "comp=starbucks['offer completed']==1\n",
    "\n",
    "starbucks['view_to_comp']= starbucks.apply(lambda row: row['offer completed'] * row['offer viewed'], axis=1)\n",
    "view_to_comp=np.sum(starbucks['view_to_comp']==1)\n",
    "\n",
    "\n",
    "print(\"\")\n",
    "print(\"Number of completions that resulted when an offer was viewed: \"+str(view_to_comp))\n",
    "\n",
    "# proportion of views that went to comps \n",
    "print(\"%of views that converted to a completion: \"+str(view_to_comp.sum()/view.sum()))\n",
    "\n"
   ]
  },
  {
   "cell_type": "markdown",
   "metadata": {},
   "source": [
    "# Which Demographics and offers had the best response?"
   ]
  },
  {
   "cell_type": "code",
   "execution_count": 27,
   "metadata": {},
   "outputs": [
    {
     "name": "stdout",
     "output_type": "stream",
     "text": [
      "\n",
      "offer_type     gender\n",
      "bogo           F         0.649039\n",
      "               M         0.484922\n",
      "               O         0.658703\n",
      "discount       F         0.715500\n",
      "               M         0.601986\n",
      "               O         0.659341\n",
      "informational  F         0.074585\n",
      "               M         0.075198\n",
      "               O         0.125000\n",
      "Name: offer completed, dtype: float64\n",
      "\n",
      "                     offer completed        income  in_offer_amt  \\\n",
      "off_difredu                                                        \n",
      "bogo_10_5_10                0.489127  65533.137729     24.197639   \n",
      "bogo_10_7_10                0.515832  63884.572901     28.943444   \n",
      "bogo_5_5_5                  0.586669  65558.649495     23.713815   \n",
      "bogo_5_7_5                  0.687363  67426.209048     30.174059   \n",
      "discount_10_10_2            0.645367  65485.118547     36.392795   \n",
      "discount_10_7_2             0.674820  68624.647225     32.112242   \n",
      "discount_20_10_5            0.573755  69794.540230     36.715469   \n",
      "discount_7_7_3              0.669666  65365.133254     29.592718   \n",
      "informational_0_3_0         0.069029  62800.329693     14.225813   \n",
      "informational_0_4_0         0.087332  68734.898171     19.548958   \n",
      "\n",
      "                     out_offer_amt  prev_offer_amt  cum_offer_amt  \n",
      "off_difredu                                                        \n",
      "bogo_10_5_10              5.936075       20.321317      47.886588  \n",
      "bogo_10_7_10              3.893168       19.431852      45.631405  \n",
      "bogo_5_5_5                6.189983       20.324715      48.444967  \n",
      "bogo_5_7_5                4.022661       23.365376      53.616796  \n",
      "discount_10_10_2          1.963308       18.888598      45.075472  \n",
      "discount_10_7_2           3.176861       22.103954      53.846560  \n",
      "discount_20_10_5          2.157409       23.568252      54.894703  \n",
      "discount_7_7_3            3.208528       19.954057      48.087174  \n",
      "informational_0_3_0       8.413674       20.544931      50.648360  \n",
      "informational_0_4_0       8.474605       23.061957      55.869358  \n"
     ]
    }
   ],
   "source": [
    "starbucks_views=starbucks[starbucks['offer viewed']==1]\n",
    "\n",
    "print(\"\")\n",
    "print(starbucks_views.groupby(['offer_type','gender'])['offer completed'].mean())\n",
    "\n",
    "print(\"\")\n",
    "print(starbucks_views.groupby(['off_difredu'])['offer completed','income','in_offer_amt','out_offer_amt', 'prev_offer_amt','cum_offer_amt'].mean())\n",
    "\n"
   ]
  },
  {
   "cell_type": "markdown",
   "metadata": {},
   "source": [
    "# Distribution of Ages, Incomes and Tenure\n",
    "\n",
    "Gain a distribution for when view convereted and when didn't convert "
   ]
  },
  {
   "cell_type": "code",
   "execution_count": 28,
   "metadata": {},
   "outputs": [
    {
     "data": {
      "image/png": "[encoded data removed]",
      "text/plain": [
       "<Figure size 432x216 with 2 Axes>"
      ]
     },
     "metadata": {
      "needs_background": "light"
     },
     "output_type": "display_data"
    }
   ],
   "source": [
    "# Create a histogram for ages\n",
    "g = sns.FacetGrid(starbucks_views, col=\"offer completed\")\n",
    "g.map(sns.histplot, \"age\", bins=25, alpha=0.5, stat='probability')\n",
    "g.fig.suptitle('Distribution of a by offer completed')\n",
    "g.fig.subplots_adjust(top=0.82) \n",
    "\n",
    "g\n",
    "plt.show()\n"
   ]
  },
  {
   "cell_type": "code",
   "execution_count": 29,
   "metadata": {},
   "outputs": [
    {
     "data": {
      "image/png": "[encoded data removed]",
      "text/plain": [
       "<Figure size 432x216 with 2 Axes>"
      ]
     },
     "metadata": {
      "needs_background": "light"
     },
     "output_type": "display_data"
    }
   ],
   "source": [
    "# Create a histogram for income\n",
    "g2 = sns.FacetGrid(starbucks_views, col=\"offer completed\")\n",
    "g2.map(sns.histplot, \"income\", bins=25, alpha=0.5, stat='probability')\n",
    "g2.fig.suptitle('Distribution of income by offer completed')\n",
    "g2.fig.subplots_adjust(top=0.82) \n",
    "g2.set_xticklabels(rotation=90)\n",
    "g2\n",
    "plt.show()\n"
   ]
  },
  {
   "cell_type": "code",
   "execution_count": 30,
   "metadata": {},
   "outputs": [
    {
     "data": {
      "image/png": "[encoded data removed]",
      "text/plain": [
       "<Figure size 432x216 with 2 Axes>"
      ]
     },
     "metadata": {
      "needs_background": "light"
     },
     "output_type": "display_data"
    }
   ],
   "source": [
    "g3 = sns.FacetGrid(starbucks_views, col=\"offer completed\")\n",
    "g3.map(sns.histplot, \"tenure\", bins=30, alpha=0.5, stat='probability')\n",
    "g3.fig.suptitle('Distribution of tenure by offer completed')\n",
    "g3.fig.subplots_adjust(top=0.82) \n",
    "#g3.set_xticklabels(rotation=90)\n",
    "g3\n",
    "plt.show()\n",
    "\n",
    "\n"
   ]
  },
  {
   "cell_type": "code",
   "execution_count": 31,
   "metadata": {},
   "outputs": [
    {
     "data": {
      "image/png": "[encoded data removed]",
      "text/plain": [
       "<Figure size 432x216 with 2 Axes>"
      ]
     },
     "metadata": {
      "needs_background": "light"
     },
     "output_type": "display_data"
    }
   ],
   "source": [
    "g4 = sns.FacetGrid(starbucks_views, col=\"offer completed\")\n",
    "g4.map(sns.histplot, \"cum_offer_amt\", bins=20, alpha=0.5, stat='probability')\n",
    "g4.fig.suptitle('Distribution of cummulative amount by offer completed')\n",
    "g4.fig.subplots_adjust(top=0.82) \n",
    "#g3.set_xticklabels(rotation=90)\n",
    "g4\n",
    "plt.show()"
   ]
  },
  {
   "cell_type": "code",
   "execution_count": 32,
   "metadata": {},
   "outputs": [
    {
     "name": "stdout",
     "output_type": "stream",
     "text": [
      "age\n",
      "                   count       mean        std   min   25%   50%   75%    max\n",
      "offer completed                                                              \n",
      "0                22111.0  53.440052  17.516738  18.0  41.0  54.0  66.0  101.0\n",
      "1                22931.0  55.790502  16.705775  18.0  45.0  56.0  67.0  101.0\n",
      "income\n",
      "                   count          mean           std      min      25%  \\\n",
      "offer completed                                                          \n",
      "0                22111.0  62297.951246  20362.043219  30000.0  47000.0   \n",
      "1                22931.0  69121.582138  21133.809387  30000.0  53000.0   \n",
      "\n",
      "                     50%      75%       max  \n",
      "offer completed                              \n",
      "0                60000.0  75000.0  120000.0  \n",
      "1                68000.0  84000.0  120000.0  \n",
      "tenure\n",
      "                   count         mean         std     min     25%     50%  \\\n",
      "offer completed                                                             \n",
      "0                22111.0  1540.704717  426.839255  1092.0  1247.5  1380.0   \n",
      "1                22931.0  1690.257119  398.688586  1092.0  1368.0  1627.0   \n",
      "\n",
      "                    75%     max  \n",
      "offer completed                  \n",
      "0                1742.5  2915.0  \n",
      "1                1955.0  2915.0  \n",
      "cum_offer_amt\n",
      "                   count       mean        std  min  25%    50%     75%  \\\n",
      "offer completed                                                           \n",
      "0                22111.0  35.026134  71.057642  0.0  0.0  11.74  44.885   \n",
      "1                22931.0  63.076213  92.017033  0.0  0.0  39.09  89.690   \n",
      "\n",
      "                     max  \n",
      "offer completed           \n",
      "0                1257.06  \n",
      "1                1325.72  \n"
     ]
    }
   ],
   "source": [
    "# describe the continuous variables by offer complete\n",
    "describe_sums = ['age','income','tenure','cum_offer_amt']\n",
    "\n",
    "for cols in describe_sums:\n",
    "    print(cols)\n",
    "    print(starbucks_views.groupby(['offer completed'])[cols].describe())"
   ]
  },
  {
   "cell_type": "markdown",
   "metadata": {},
   "source": [
    "# Building a model - predicting completion after view\n",
    "\n",
    "We will now build a predictive model to predict customers that will likely compelte an offer once they have viewed the offer. First we will check for correlations between variables and remove any which are highly correlated. Accuracy and F1 score will be used to gauge success of the model along with the AUC score. Variable importance will also be outputted.\n",
    "\n",
    "Monies from transactions was considered as a predictor, but discounted as it in-effect describes the response. Those that have higher sales transactions tend to complete offers. Additonally, in providing offers to new customers, information about their total sales is not known at the point the offer is issued. "
   ]
  },
  {
   "cell_type": "code",
   "execution_count": 33,
   "metadata": {},
   "outputs": [
    {
     "name": "stdout",
     "output_type": "stream",
     "text": [
      "Index(['person', 'block', 'in_offer_amt', 'offer received', 'offer viewed',\n",
      "       'offer completed', 'transaction', 'out_offer_amt', 'total_trans',\n",
      "       'prev_offer_amt', 'cum_offer_amt', 'difficulty', 'offer_type', 'reward',\n",
      "       'off_difredu', 'offer_num', 'age', 'became_member_on', 'gender',\n",
      "       'income', 'complete', 'gender_F', 'gender_M', 'gender_O', 'gender_UNK',\n",
      "       'tenure', 'offer_No offer', 'offer_bogo', 'offer_discount',\n",
      "       'offer_informational', 'offer_nan', 'type_No offer',\n",
      "       'type_bogo_10_5_10', 'type_bogo_10_7_10', 'type_bogo_5_5_5',\n",
      "       'type_bogo_5_7_5', 'type_discount_10_10_2', 'type_discount_10_7_2',\n",
      "       'type_discount_20_10_5', 'type_discount_7_7_3',\n",
      "       'type_informational_0_3_0', 'type_informational_0_4_0', 'type_nan',\n",
      "       'chan_email', 'chan_mobile', 'chan_social', 'chan_web', 'rec_to_view',\n",
      "       'view_to_comp'],\n",
      "      dtype='object')\n"
     ]
    }
   ],
   "source": [
    "print(starbucks_views.columns)"
   ]
  },
  {
   "cell_type": "code",
   "execution_count": 34,
   "metadata": {},
   "outputs": [],
   "source": [
    "keep_cols=['age','income','gender_F',\n",
    "       'gender_M', 'gender_O', 'gender_UNK','tenure',\n",
    "        'type_No offer', 'type_bogo_10_5_10', 'type_bogo_10_7_10',\n",
    "       'type_bogo_5_5_5', 'type_bogo_5_7_5', 'type_discount_10_10_2',\n",
    "       'type_discount_10_7_2', 'type_discount_20_10_5', 'type_discount_7_7_3',\n",
    "       'type_informational_0_3_0', 'type_informational_0_4_0', 'type_nan',\n",
    "        'chan_email', 'chan_mobile', 'chan_social', 'chan_web','prev_offer_amt','cum_offer_amt']"
   ]
  },
  {
   "cell_type": "code",
   "execution_count": 35,
   "metadata": {},
   "outputs": [
    {
     "data": {
      "image/png": "[encoded data removed]",
      "text/plain": [
       "<Figure size 432x288 with 2 Axes>"
      ]
     },
     "metadata": {
      "needs_background": "light"
     },
     "output_type": "display_data"
    }
   ],
   "source": [
    "# investigate heat map for correlations\n",
    "corrs=starbucks_views[keep_cols].corr()\n",
    "sns.heatmap(corrs.corr())\n",
    "plt.title('Correlation heatmap of predictor variables')\n",
    "plt.show()\n"
   ]
  },
  {
   "cell_type": "code",
   "execution_count": 36,
   "metadata": {},
   "outputs": [],
   "source": [
    "# remove gender_unk, type_no offer and chan_email - offer amounts are highly correlated with each other\n",
    "keep_cols=['age','income','gender_F',\n",
    "       'gender_M', 'gender_O', 'tenure',\n",
    "        'type_bogo_10_5_10', 'type_bogo_10_7_10',\n",
    "       'type_bogo_5_5_5', 'type_bogo_5_7_5', 'type_discount_10_10_2',\n",
    "       'type_discount_10_7_2', 'type_discount_20_10_5', 'type_discount_7_7_3',\n",
    "       'type_informational_0_3_0', 'type_informational_0_4_0', \n",
    "        'chan_mobile', 'chan_social', 'chan_web','cum_offer_amt']"
   ]
  },
  {
   "cell_type": "code",
   "execution_count": 37,
   "metadata": {},
   "outputs": [],
   "source": [
    "# create y, the response and X the predictor variables\n",
    "y=starbucks_views['offer completed'].values\n",
    "X=starbucks_views[keep_cols].values\n"
   ]
  },
  {
   "cell_type": "code",
   "execution_count": 38,
   "metadata": {},
   "outputs": [],
   "source": [
    "# split the data into test and train\n",
    "X_train, X_test, y_train, y_test = train_test_split(X, y, random_state=42)\n",
    "\n",
    "# set the classifier\n",
    "\n",
    "#clf=LogisticRegression()\n",
    "#clf=RandomForestClassifier(n_estimators=50)\n",
    "\n",
    "# fit the classifier to the training data\n",
    "#clf.fit(X_train, y_train)  \n",
    "\n",
    "# output predicted results for y\n",
    "#y_pred=clf.predict(X_test)\n"
   ]
  },
  {
   "cell_type": "code",
   "execution_count": 39,
   "metadata": {},
   "outputs": [],
   "source": [
    "# a short function to try out two differnt classifiers \n",
    "def modeltype (mod,descript):\n",
    "    ''' Description: The purpose of this function is to create summary and evaluation statistics for \n",
    "    differnt types of model, with the results being outptutted\n",
    "    \n",
    "    Inputs: there are only 2 inputs required\n",
    "        mod - allows the user to select the classifier\n",
    "        descript - allows the user to provide a description of the model\n",
    "    \n",
    "    Outputs: returned items are\n",
    "        y_pred - the predicted results\n",
    "        clf - the clasifier used\n",
    "    '''\n",
    "    \n",
    "    clf=mod\n",
    "        \n",
    "    # fit the classifier to the training data\n",
    "    clf.fit(X_train, y_train)  \n",
    "\n",
    "    # output predicted results for y\n",
    "    y_pred=clf.predict(X_test)\n",
    "    \n",
    "    # gain an accuracy score and also classification report\n",
    "    print(\"Accuracy for: \"+str(descript), metrics.accuracy_score(y_test, y_pred))\n",
    "    print(\"\")\n",
    "    print(classification_report(y_test, y_pred))\n",
    "    print(confusion_matrix(y_test, y_pred))\n",
    "    \n",
    "    \n",
    "    # construct an AUC chart to represent model performance\n",
    "    y_pred_proba = clf.predict_proba(X_test)[::,1]\n",
    "    fpr, tpr, _ = metrics.roc_curve(y_test,  y_pred_proba)\n",
    "    \n",
    "    # output the AUC value\n",
    "    auc = metrics.roc_auc_score(y_test, y_pred_proba)\n",
    "    \n",
    "    # construct an AUC chart of the false postive rate and true postive rate\n",
    "    plt.plot(fpr,tpr,label=\"Offers completed, auc=\"+str(auc))\n",
    "    plt.title(\"AUC: \"+str(descript))\n",
    "    plt.xlabel('False positive rate')\n",
    "    plt.ylabel('True positive rate')\n",
    "    plt.legend(loc=4)\n",
    "    plt.show()\n",
    "    \n",
    "    return y_pred,clf\n",
    "       "
   ]
  },
  {
   "cell_type": "code",
   "execution_count": 40,
   "metadata": {},
   "outputs": [
    {
     "name": "stdout",
     "output_type": "stream",
     "text": [
      "Accuracy for: Logistic Regression 0.5853831808897967\n",
      "\n",
      "             precision    recall  f1-score   support\n",
      "\n",
      "          0       0.59      0.51      0.55      5570\n",
      "          1       0.58      0.66      0.62      5691\n",
      "\n",
      "avg / total       0.59      0.59      0.58     11261\n",
      "\n",
      "[[2823 2747]\n",
      " [1922 3769]]\n"
     ]
    },
    {
     "data": {
      "image/png": "[encoded data removed]",
      "text/plain": [
       "<Figure size 432x288 with 1 Axes>"
      ]
     },
     "metadata": {
      "needs_background": "light"
     },
     "output_type": "display_data"
    },
    {
     "name": "stdout",
     "output_type": "stream",
     "text": [
      "Accuracy for: Random Forest 0.7407867862534411\n",
      "\n",
      "             precision    recall  f1-score   support\n",
      "\n",
      "          0       0.73      0.75      0.74      5570\n",
      "          1       0.75      0.73      0.74      5691\n",
      "\n",
      "avg / total       0.74      0.74      0.74     11261\n",
      "\n",
      "[[4200 1370]\n",
      " [1549 4142]]\n"
     ]
    },
    {
     "data": {
      "image/png": "[encoded data removed]",
      "text/plain": [
       "<Figure size 432x288 with 1 Axes>"
      ]
     },
     "metadata": {
      "needs_background": "light"
     },
     "output_type": "display_data"
    },
    {
     "data": {
      "text/plain": [
       "(array([0, 1, 0, ..., 0, 1, 1], dtype=uint8),\n",
       " RandomForestClassifier(bootstrap=True, class_weight=None, criterion='gini',\n",
       "             max_depth=None, max_features='auto', max_leaf_nodes=None,\n",
       "             min_impurity_decrease=0.0, min_impurity_split=None,\n",
       "             min_samples_leaf=1, min_samples_split=2,\n",
       "             min_weight_fraction_leaf=0.0, n_estimators=10, n_jobs=1,\n",
       "             oob_score=False, random_state=None, verbose=0,\n",
       "             warm_start=False))"
      ]
     },
     "execution_count": 40,
     "metadata": {},
     "output_type": "execute_result"
    }
   ],
   "source": [
    "# run the function to output two sets of results\n",
    "modeltype(LogisticRegression(),descript=\"Logistic Regression\")\n",
    "modeltype(RandomForestClassifier(),descript=\"Random Forest\")\n"
   ]
  },
  {
   "cell_type": "markdown",
   "metadata": {},
   "source": [
    "The Logistic Regression model had a slightly worse Accuracy compared to the Random Forest. The precision in identifying the True cases is much higher with Random Forest - refine this model "
   ]
  },
  {
   "cell_type": "code",
   "execution_count": 41,
   "metadata": {},
   "outputs": [
    {
     "data": {
      "text/plain": [
       "RandomForestClassifier(bootstrap=True, class_weight=None, criterion='gini',\n",
       "            max_depth=None, max_features='auto', max_leaf_nodes=None,\n",
       "            min_impurity_decrease=0.0, min_impurity_split=None,\n",
       "            min_samples_leaf=1, min_samples_split=2,\n",
       "            min_weight_fraction_leaf=0.0, n_estimators=150, n_jobs=1,\n",
       "            oob_score=False, random_state=None, verbose=0,\n",
       "            warm_start=False)"
      ]
     },
     "execution_count": 41,
     "metadata": {},
     "output_type": "execute_result"
    }
   ],
   "source": [
    "#preform grid search to identiy best number of of estimators\n",
    "\n",
    "\n",
    "# check the baseline parameters\n",
    "#clf.get_params()\n",
    "\n",
    "# set the classifier to use\n",
    "clf=RandomForestClassifier()\n",
    "\n",
    "# create the grid to search through \n",
    "parameters={'n_estimators':[10,50,100,150]}\n",
    "\n",
    "cv=GridSearchCV(clf,param_grid=parameters)\n",
    "cv.fit(X_train,y_train)\n",
    "\n",
    "# output the best estimators from the fitted model\n",
    "cv.best_estimator_\n"
   ]
  },
  {
   "cell_type": "code",
   "execution_count": 44,
   "metadata": {},
   "outputs": [
    {
     "name": "stdout",
     "output_type": "stream",
     "text": [
      "Accuracy for: Random Forest with 150 estimators 0.7571263653316757\n",
      "\n",
      "             precision    recall  f1-score   support\n",
      "\n",
      "          0       0.77      0.73      0.75      5570\n",
      "          1       0.75      0.78      0.76      5691\n",
      "\n",
      "avg / total       0.76      0.76      0.76     11261\n",
      "\n",
      "[[4081 1489]\n",
      " [1246 4445]]\n"
     ]
    },
    {
     "data": {
      "image/png": "[encoded data removed]",
      "text/plain": [
       "<Figure size 432x288 with 1 Axes>"
      ]
     },
     "metadata": {
      "needs_background": "light"
     },
     "output_type": "display_data"
    },
    {
     "data": {
      "image/png": "[encoded data removed]",
      "text/plain": [
       "<Figure size 432x288 with 1 Axes>"
      ]
     },
     "metadata": {
      "needs_background": "light"
     },
     "output_type": "display_data"
    }
   ],
   "source": [
    "# rebuild model with n_estimators as 150\n",
    "y_pred, clf=modeltype(RandomForestClassifier(n_estimators=150),descript=\"Random Forest with 150 estimators\")\n",
    "\n",
    "\n",
    "# plot feature importance\n",
    "# https://stackoverflow.com/questions/44101458/random-forest-feature-importance-chart-using-python\n",
    "features = keep_cols\n",
    "importances = clf.feature_importances_\n",
    "indices = np.argsort(importances)\n",
    "\n",
    "plt.title('Feature Importances')\n",
    "plt.barh(range(len(indices)), importances[indices], color='b', align='center')\n",
    "plt.yticks(range(len(indices)), [features[i] for i in indices])\n",
    "plt.xlabel('Relative Importance')\n",
    "plt.show()\n"
   ]
  },
  {
   "cell_type": "code",
   "execution_count": 45,
   "metadata": {},
   "outputs": [
    {
     "data": {
      "text/plain": [
       "array([0.74903818, 0.74511545, 0.74215512, 0.74955595, 0.76228538,\n",
       "       0.75310835, 0.75695678, 0.74541149, 0.74866785, 0.74955595])"
      ]
     },
     "execution_count": 45,
     "metadata": {},
     "output_type": "execute_result"
    }
   ],
   "source": [
    "# Cross validation to evaluate the model - is it a stable predictor?\n",
    "scores = cross_val_score(clf, X_train, y_train, cv=10, scoring='accuracy')\n",
    "scores"
   ]
  },
  {
   "cell_type": "code",
   "execution_count": 50,
   "metadata": {},
   "outputs": [
    {
     "data": {
      "text/plain": [
       "Text(0, 0.5, 'Accuracy')"
      ]
     },
     "execution_count": 50,
     "metadata": {},
     "output_type": "execute_result"
    },
    {
     "data": {
      "image/png": "[encoded data removed]",
      "text/plain": [
       "<Figure size 432x288 with 1 Axes>"
      ]
     },
     "metadata": {
      "needs_background": "light"
     },
     "output_type": "display_data"
    }
   ],
   "source": [
    "# plot a rough line chart to visualise accuracy\n",
    "plt.plot(scores)\n",
    "plt.title('Accuracy score for k-fold cross-validation')\n",
    "plt.xlabel('Fold')\n",
    "plt.ylabel('Accuracy')"
   ]
  },
  {
   "cell_type": "markdown",
   "metadata": {},
   "source": [
    "##### END"
   ]
  },
  {
   "cell_type": "code",
   "execution_count": null,
   "metadata": {},
   "outputs": [],
   "source": []
  }
 ],
 "metadata": {
  "kernelspec": {
   "display_name": "Python 3",
   "language": "python",
   "name": "python3"
  },
  "language_info": {
   "codemirror_mode": {
    "name": "ipython",
    "version": 3
   },
   "file_extension": ".py",
   "mimetype": "text/x-python",
   "name": "python",
   "nbconvert_exporter": "python",
   "pygments_lexer": "ipython3",
   "version": "3.6.3"
  }
 },
 "nbformat": 4,
 "nbformat_minor": 2
}
